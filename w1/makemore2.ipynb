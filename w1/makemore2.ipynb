{
 "cells": [
  {
   "cell_type": "markdown",
   "metadata": {},
   "source": [
    "Trochę chyba to co w poprzednim tylko actually chcemy więcej kontekstu (WOW)\n",
    "Chyba jeszcze jakieś tricki z dev testami i testem"
   ]
  },
  {
   "cell_type": "code",
   "execution_count": 11,
   "metadata": {},
   "outputs": [
    {
     "data": {
      "text/plain": [
       "['peyton', 'rylee', 'clara']"
      ]
     },
     "execution_count": 11,
     "metadata": {},
     "output_type": "execute_result"
    }
   ],
   "source": [
    "import torch\n",
    "import torch.nn.functional as F\n",
    "import matplotlib.pyplot as plt\n",
    "%matplotlib inline\n",
    "words = open('names.txt', 'r').read().splitlines()\n",
    "words[100:103]"
   ]
  },
  {
   "cell_type": "code",
   "execution_count": 7,
   "metadata": {},
   "outputs": [
    {
     "name": "stdout",
     "output_type": "stream",
     "text": [
      "{1: 'a', 2: 'b', 3: 'c', 4: 'd', 5: 'e', 6: 'f', 7: 'g', 8: 'h', 9: 'i', 10: 'j', 11: 'k', 12: 'l', 13: 'm', 14: 'n', 15: 'o', 16: 'p', 17: 'q', 18: 'r', 19: 's', 20: 't', 21: 'u', 22: 'v', 23: 'w', 24: 'x', 25: 'y', 26: 'z', 0: '.'}\n"
     ]
    }
   ],
   "source": [
    "### BASIC FUNKCJE ###\n",
    "chars = sorted(list(set(''.join(words))))\n",
    "stoi = {s:i+1 for i,s in enumerate(chars)}\n",
    "stoi['.'] = 0\n",
    "itos = {i:s for s,i in stoi.items()}\n",
    "print(itos)"
   ]
  },
  {
   "cell_type": "markdown",
   "metadata": {},
   "source": [
    "https://www.jmlr.org/papers/volume3/bengio03a/bengio03a.pdf"
   ]
  },
  {
   "cell_type": "code",
   "execution_count": null,
   "metadata": {},
   "outputs": [],
   "source": [
    "# TLDR: \n",
    "# Bierzemy indeks słowa (0.16999) zamieniamy na V[30] potem te 3 słowa na V[100] i potem 17000 logits (softmax) na górze (chcemy wiedzieć jakie prawdopodobieństwa)"
   ]
  },
  {
   "cell_type": "code",
   "execution_count": 81,
   "metadata": {},
   "outputs": [],
   "source": [
    "block_size = 3\n",
    "X, Y = [], []\n",
    "for w in words:\n",
    "    context = [0] * block_size\n",
    "    for ch in w + '.':\n",
    "        ix = stoi[ch]\n",
    "        X.append(context)\n",
    "        Y.append(ix)\n",
    "        context = context[1:] + [ix]\n",
    "X = torch.tensor(X)\n",
    "Y = torch.tensor(Y)"
   ]
  },
  {
   "cell_type": "code",
   "execution_count": null,
   "metadata": {},
   "outputs": [
    {
     "data": {
      "text/plain": [
       "tensor([0., 0.])"
      ]
     },
     "execution_count": 12,
     "metadata": {},
     "output_type": "execute_result"
    }
   ],
   "source": [
    "# Każdą literę zamieniamy na 2\n",
    "C = torch.rand((27,2))\n",
    "\n",
    "# Można tak o tym myśleć\n",
    "# C[5] - F.one_hot(torch.tensor(5), num_classes = 27).float() @ C"
   ]
  },
  {
   "cell_type": "code",
   "execution_count": 15,
   "metadata": {},
   "outputs": [],
   "source": [
    "C[[5, 6, 7]] # Works\n",
    "emb = C[X]"
   ]
  },
  {
   "cell_type": "code",
   "execution_count": 32,
   "metadata": {},
   "outputs": [],
   "source": [
    "W1 = torch.randn((6, 100)) # wrzucamy 3 x 2, x 100 (hidden layer)\n",
    "b1 = torch.randn(100)"
   ]
  },
  {
   "cell_type": "code",
   "execution_count": null,
   "metadata": {},
   "outputs": [],
   "source": [
    "#32 by 3 by 2 into 32 by 6\n",
    "#emb.shape\n",
    "# To brzydkie, bo well mało skalowlne\n",
    "# emb2 = torch.cat([emb[:, 0, :],emb[:, 1, :],emb[:, 2, :]], 1)\n",
    "# emb2.shape\n",
    "\n",
    "# Tak lepiej\n",
    "#torch.cat(torch.unbind(emb, 1), 1).shape\n",
    "\n",
    "\n",
    "#można najlepiej\n",
    "#a = torch.arange(18)\n",
    "#a.view(2,9) # WOW\n",
    "#emb.view(32, 6) == torch.cat(torch.unbind(emb, 1), 1)\n",
    "h = torch.tanh(emb.view(-1, 6) @ W1 + b1)\n",
    "# Ten plus wyżej działa bo jakby to jest 32 x 100 + 100 no i to broadcasting chill"
   ]
  },
  {
   "cell_type": "code",
   "execution_count": 36,
   "metadata": {},
   "outputs": [
    {
     "data": {
      "text/plain": [
       "torch.Size([32, 100])"
      ]
     },
     "execution_count": 36,
     "metadata": {},
     "output_type": "execute_result"
    }
   ],
   "source": [
    "h.shape"
   ]
  },
  {
   "cell_type": "code",
   "execution_count": null,
   "metadata": {},
   "outputs": [
    {
     "data": {
      "text/plain": [
       "tensor(17.2162)"
      ]
     },
     "execution_count": 42,
     "metadata": {},
     "output_type": "execute_result"
    }
   ],
   "source": [
    "W2 = torch.randn((100, 27))\n",
    "b2 = torch.randn(27)\n",
    "logits = h @ W2 + b2\n",
    "\n",
    "# Cross entropy ale gorzej (może psuć się dla bardzo skrajnych and wolniejsze)\n",
    "# counts = logits.exp()\n",
    "# prob = counts / counts.sum(1, keepdim=True)\n",
    "# loss = -prob[torch.arange(32), Y].log().mean()\n",
    "\n",
    "loss = F.cross_entropy(logits, Y)"
   ]
  },
  {
   "cell_type": "code",
   "execution_count": 82,
   "metadata": {},
   "outputs": [],
   "source": [
    "# Teraz od nowa jak andrej (przepisujemy ładniej)\n",
    "g = torch.Generator().manual_seed(2147483647)\n",
    "C = torch.randn((27, 2), generator = g)\n",
    "W1 = torch.randn((6, 100), generator = g)\n",
    "b1 = torch.randn(100, generator = g)\n",
    "W2 = torch.randn((100, 27), generator = g)\n",
    "b2 = torch.randn(27, generator = g)\n",
    "params = [C, W1, b1, W2, b2]"
   ]
  },
  {
   "cell_type": "code",
   "execution_count": 83,
   "metadata": {},
   "outputs": [],
   "source": [
    "for p in params:\n",
    "    p.requires_grad = True"
   ]
  },
  {
   "cell_type": "code",
   "execution_count": null,
   "metadata": {},
   "outputs": [],
   "source": [
    "# To już jest kinda chill code like that (tylko wolne bo na wszystkim)\n",
    "for _ in range(100):\n",
    "    print(loss.item())\n",
    "    emb = C[X]\n",
    "    h = torch.tanh(emb.view(-1, 6) @ W1 + b1)\n",
    "    logits = h @ W2 + b2\n",
    "    loss = F.cross_entropy(logits, Y)\n",
    "\n",
    "    #backward\n",
    "    for p in params:\n",
    "        p.grad = None\n",
    "    loss.backward()\n",
    "    # update\n",
    "    for p in params:\n",
    "        p.data -= p.grad * 0.1\n",
    "print(loss.item())"
   ]
  },
  {
   "cell_type": "code",
   "execution_count": null,
   "metadata": {},
   "outputs": [],
   "source": [
    "# To już jest kinda chill code like that (tylko wolne bo na wszystkim)\n",
    "for _ in range(100):\n",
    "    ix = torch.randint(0, X.shape[0], (128,))\n",
    "    print(loss.item())\n",
    "    emb = C[X[ix]]\n",
    "    h = torch.tanh(emb.view(-1, 6) @ W1 + b1)\n",
    "    logits = h @ W2 + b2\n",
    "    loss = F.cross_entropy(logits, Y[ix])\n",
    "\n",
    "    #backward\n",
    "    for p in params:\n",
    "        p.grad = None\n",
    "    loss.backward()\n",
    "    # update\n",
    "    for p in params:\n",
    "        p.data -= p.grad * 0.02\n",
    "print(loss.item())"
   ]
  },
  {
   "cell_type": "code",
   "execution_count": 107,
   "metadata": {},
   "outputs": [
    {
     "data": {
      "text/plain": [
       "[<matplotlib.lines.Line2D at 0x7f2816473c50>]"
      ]
     },
     "execution_count": 107,
     "metadata": {},
     "output_type": "execute_result"
    },
    {
     "data": {
      "image/png": "[encoded data removed]",
      "text/plain": [
       "<Figure size 640x480 with 1 Axes>"
      ]
     },
     "metadata": {},
     "output_type": "display_data"
    }
   ],
   "source": [
    "# Musimy znaleźć jakiś learning rate range\n",
    "lre = torch.linspace(-3, 0, 1000)\n",
    "# nie chcemy liniowo tylko tak lepiej\n",
    "lrs = 10**lre\n",
    "losses = []\n",
    "rates = []\n",
    "for rate in lrs:\n",
    "    \n",
    "    g = torch.Generator().manual_seed(2147483647)\n",
    "    C = torch.randn((27, 2), generator = g)\n",
    "    W1 = torch.randn((6, 100), generator = g)\n",
    "    b1 = torch.randn(100, generator = g)\n",
    "    W2 = torch.randn((100, 27), generator = g)\n",
    "    b2 = torch.randn(27, generator = g)\n",
    "    params = [C, W1, b1, W2, b2]\n",
    "    for p in params:\n",
    "        p.requires_grad = True\n",
    "    for _ in range(100):\n",
    "        ix = torch.randint(0, X.shape[0], (32,))\n",
    "        emb = C[X[ix]]\n",
    "        h = torch.tanh(emb.view(-1, 6) @ W1 + b1)\n",
    "        logits = h @ W2 + b2\n",
    "        loss = F.cross_entropy(logits, Y[ix])\n",
    "\n",
    "        #backward\n",
    "        for p in params:\n",
    "            p.grad = None\n",
    "        loss.backward()\n",
    "        # update\n",
    "        for p in params:\n",
    "            p.data -= p.grad * rate\n",
    "    rates.append(rate)\n",
    "    losses.append(loss.item())\n",
    "plt.plot(rates, losses)\n",
    "    "
   ]
  },
  {
   "cell_type": "code",
   "execution_count": null,
   "metadata": {},
   "outputs": [
    {
     "data": {
      "text/plain": [
       "<matplotlib.collections.PathCollection at 0x7f2816492d10>"
      ]
     },
     "execution_count": 108,
     "metadata": {},
     "output_type": "execute_result"
    },
    {
     "data": {
      "image/png": "[encoded data removed]",
      "text/plain": [
       "<Figure size 800x800 with 1 Axes>"
      ]
     },
     "metadata": {},
     "output_type": "display_data"
    }
   ],
   "source": [
    "# Teraz możemy próbować na jednej z tych lepszych coś dłużej\n",
    "# Ew na koniec zmniejszyć\n",
    "\n",
    "# Teraz trzeba podzielić, bo inaczej zapamięta\n",
    "# 80% 10% 10%\n",
    "# Train dev test\n",
    "\n",
    "# Jak training i dev bardzo podobne toznacczy, że underfitting (sieć za mała)\n",
    "\n",
    "# Można zwiększyć hidden layer i to spoko\n",
    "plt.figure(figsize=(8,8))\n",
    "plt.scatter(C[:,0].data, C[:,1].data)\n",
    "# Tu można dodać opis tych punktów\n",
    "\n",
    "# Ale chyba więcej ma sensu opisać ile ma inputów dana sieć"
   ]
  }
 ],
 "metadata": {
  "kernelspec": {
   "display_name": "Python 3",
   "language": "python",
   "name": "python3"
  },
  "language_info": {
   "codemirror_mode": {
    "name": "ipython",
    "version": 3
   },
   "file_extension": ".py",
   "mimetype": "text/x-python",
   "name": "python",
   "nbconvert_exporter": "python",
   "pygments_lexer": "ipython3",
   "version": "3.11.2"
  }
 },
 "nbformat": 4,
 "nbformat_minor": 2
}
